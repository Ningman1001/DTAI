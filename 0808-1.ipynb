{
 "cells": [
  {
   "cell_type": "code",
   "execution_count": 2,
   "metadata": {},
   "outputs": [
    {
     "name": "stdout",
     "output_type": "stream",
     "text": [
      "在 2 4 2 下 解1= -4.0\n",
      "在 5 4 1 下 解1= (-4+0.2j)\n"
     ]
    }
   ],
   "source": [
    "a = 2 ; b = 4 ; c = 2\n",
    "s1 = -b + (b**2-4*a*c)**0.5/(2*a)\n",
    "print(\"在\", a, b, c, \"下\", \"解1=\", s1)\n",
    "a = 5 ; b = 4 ; c = 1\n",
    "s1 = -b + (b**2-4*a*c)**0.5/(2*a)\n",
    "print(\"在\", a, b, c, \"下\", \"解1=\", s1)"
   ]
  },
  {
   "cell_type": "code",
   "execution_count": 3,
   "metadata": {},
   "outputs": [
    {
     "name": "stdout",
     "output_type": "stream",
     "text": [
      "Radius = 20.00\n",
      "circumference = 125.66\n",
      "Area = 1256.64\n"
     ]
    }
   ],
   "source": [
    "import math\n",
    "Radius = eval(input())\n",
    "pi = math.pi\n",
    "circumference = (Radius + Radius)*pi\n",
    "Area = Radius*Radius*pi\n",
    "print(\"Radius = {:.2f}\" . format(Radius))\n",
    "print(\"circumference = {:.2f}\" . format(circumference))\n",
    "print(\"Area = {:.2f}\" . format(Area))"
   ]
  },
  {
   "cell_type": "code",
   "execution_count": 17,
   "metadata": {},
   "outputs": [
    {
     "name": "stdout",
     "output_type": "stream",
     "text": [
      "Input Error\n"
     ]
    }
   ],
   "source": [
    "num = int(input(\"請輸入數字\"))\n",
    "if(num >= 0 and num % 2 == 0):\n",
    "    print(num, \"is even\")\n",
    "elif(num%2!=0):\n",
    "    print(num, \"is odd\")\n",
    "else:\n",
    "    print(\"Input Error\")"
   ]
  },
  {
   "cell_type": "code",
   "execution_count": 18,
   "metadata": {},
   "outputs": [
    {
     "name": "stdout",
     "output_type": "stream",
     "text": [
      "10 is winter\n"
     ]
    }
   ],
   "source": [
    "num = int(input())\n",
    "if(num >= 0 and num<13 and num<4):\n",
    "    print(num, \"is spring\")\n",
    "elif(num>3 and num<7):\n",
    "    print(num, \"is summer\")\n",
    "elif(num>6 and num<10):\n",
    "    print(num, \"is autumn\")\n",
    "elif(num>9):\n",
    "    print(num, \"is winter\")\n",
    "else:\n",
    "    print(\"Input Error\")"
   ]
  }
 ],
 "metadata": {
  "kernelspec": {
   "display_name": "Python 3",
   "language": "python",
   "name": "python3"
  },
  "language_info": {
   "codemirror_mode": {
    "name": "ipython",
    "version": 3
   },
   "file_extension": ".py",
   "mimetype": "text/x-python",
   "name": "python",
   "nbconvert_exporter": "python",
   "pygments_lexer": "ipython3",
   "version": "3.12.4"
  }
 },
 "nbformat": 4,
 "nbformat_minor": 2
}
