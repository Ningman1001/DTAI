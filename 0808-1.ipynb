{
 "cells": [
  {
   "cell_type": "code",
   "execution_count": 1,
   "metadata": {},
   "outputs": [
    {
     "name": "stdout",
     "output_type": "stream",
     "text": [
      "在 2 4 2 下 解1= -4.0\n",
      "在 5 4 1 下 解1= (-4+0.2j)\n"
     ]
    }
   ],
   "source": [
    "a = 2 ; b = 4 ; c = 2\n",
    "s1 = -b + (b**2-4*a*c)**0.5/(2*a)\n",
    "print(\"在\", a, b, c, \"下\", \"解1=\", s1)\n",
    "a = 5 ; b = 4 ; c = 1\n",
    "s1 = -b + (b**2-4*a*c)**0.5/(2*a)\n",
    "print(\"在\", a, b, c, \"下\", \"解1=\", s1)"
   ]
  },
  {
   "cell_type": "code",
   "execution_count": 2,
   "metadata": {},
   "outputs": [
    {
     "ename": "SyntaxError",
     "evalue": "invalid syntax (<string>, line 0)",
     "output_type": "error",
     "traceback": [
      "Traceback \u001b[1;36m(most recent call last)\u001b[0m:\n",
      "\u001b[0m  File \u001b[0;32mc:\\Users\\Lucy Chu\\anaconda3\\Lib\\site-packages\\IPython\\core\\interactiveshell.py:3577\u001b[0m in \u001b[0;35mrun_code\u001b[0m\n    exec(code_obj, self.user_global_ns, self.user_ns)\u001b[0m\n",
      "\u001b[1;36m  Cell \u001b[1;32mIn[2], line 2\u001b[1;36m\n\u001b[1;33m    Radius = eval(input())\u001b[1;36m\n",
      "\u001b[1;36m  File \u001b[1;32m<string>\u001b[1;36m\u001b[0m\n\u001b[1;33m    \u001b[0m\n\u001b[1;37m    ^\u001b[0m\n\u001b[1;31mSyntaxError\u001b[0m\u001b[1;31m:\u001b[0m invalid syntax\n"
     ]
    }
   ],
   "source": [
    "import math\n",
    "Radius = eval(input())\n",
    "pi = math.pi\n",
    "circumference = (Radius + Radius)*pi\n",
    "Area = Radius*Radius*pi\n",
    "print(\"Radius = {:.2f}\" . format(Radius))\n",
    "print(\"circumference = {:.2f}\" . format(circumference))\n",
    "print(\"Area = {:.2f}\" . format(Area))"
   ]
  },
  {
   "cell_type": "code",
   "execution_count": null,
   "metadata": {},
   "outputs": [
    {
     "name": "stdout",
     "output_type": "stream",
     "text": [
      "Input Error\n"
     ]
    }
   ],
   "source": [
    "num = int(input(\"請輸入數字\"))\n",
    "if(num >= 0 and num % 2 == 0):\n",
    "    print(num, \"is even\")\n",
    "elif(num%2!=0):\n",
    "    print(num, \"is odd\")\n",
    "else:\n",
    "    print(\"Input Error\")"
   ]
  },
  {
   "cell_type": "code",
   "execution_count": 4,
   "metadata": {},
   "outputs": [
    {
     "name": "stdout",
     "output_type": "stream",
     "text": [
      "2 is spring\n"
     ]
    }
   ],
   "source": [
    "num = int(input())\n",
    "if(num >= 0 and num<13 and num<4):\n",
    "    print(num, \"is spring\")\n",
    "elif(num>3 and num<7):\n",
    "    print(num, \"is summer\")\n",
    "elif(num>6 and num<10):\n",
    "    print(num, \"is autumn\")\n",
    "elif(num>9):\n",
    "    print(num, \"is winter\")\n",
    "else:\n",
    "    print(\"Input Error\")"
   ]
  },
  {
   "cell_type": "code",
   "execution_count": 8,
   "metadata": {},
   "outputs": [
    {
     "name": "stdout",
     "output_type": "stream",
     "text": [
      "Input Error\n"
     ]
    }
   ],
   "source": [
    "road = int(input())\n",
    "if(road>0 and road <= 5):\n",
    "    print(\"240 yuan\")\n",
    "elif(road == 0):\n",
    "    print(\"0 yuan\")\n",
    "elif(road > 5):\n",
    "    print(((road - 5)*40 + 240), \"yuan\")\n",
    "else:\n",
    "    print(\"Input Error\")"
   ]
  },
  {
   "cell_type": "code",
   "execution_count": 11,
   "metadata": {},
   "outputs": [
    {
     "name": "stdout",
     "output_type": "stream",
     "text": [
      "103000.0\n"
     ]
    }
   ],
   "source": [
    "y = int(input())\n",
    "total = 100000*((1 + 0.03)**y)\n",
    "if(y >= 0):\n",
    "    print(total)\n",
    "else:\n",
    "    print(\"Input Error\")"
   ]
  },
  {
   "cell_type": "code",
   "execution_count": 17,
   "metadata": {},
   "outputs": [
    {
     "name": "stdout",
     "output_type": "stream",
     "text": [
      "10\n"
     ]
    }
   ],
   "source": [
    "a, b, c = input(). split()\n",
    "int_a = int(a)\n",
    "int_b = int(b)\n",
    "int_c = int(c)\n",
    "min = int_a\n",
    "if(int_b <= min):\n",
    "    min = int_b\n",
    "if(int_c <= min):\n",
    "    min = int_c\n",
    "print(min)"
   ]
  },
  {
   "cell_type": "code",
   "execution_count": 19,
   "metadata": {},
   "outputs": [
    {
     "name": "stdout",
     "output_type": "stream",
     "text": [
      "30.9\n"
     ]
    }
   ],
   "source": [
    "a, b, c = input(). split()\n",
    "f_a = float(a)\n",
    "f_b = float(b)\n",
    "f_c = float(c)\n",
    "max = f_a\n",
    "if(f_b >= max):\n",
    "    max = f_b\n",
    "if(f_c >= max):\n",
    "    max = f_c\n",
    "print(max)"
   ]
  },
  {
   "cell_type": "code",
   "execution_count": null,
   "metadata": {},
   "outputs": [],
   "source": []
  }
 ],
 "metadata": {
  "kernelspec": {
   "display_name": "Python 3",
   "language": "python",
   "name": "python3"
  },
  "language_info": {
   "codemirror_mode": {
    "name": "ipython",
    "version": 3
   },
   "file_extension": ".py",
   "mimetype": "text/x-python",
   "name": "python",
   "nbconvert_exporter": "python",
   "pygments_lexer": "ipython3",
   "version": "3.12.4"
  }
 },
 "nbformat": 4,
 "nbformat_minor": 2
}
