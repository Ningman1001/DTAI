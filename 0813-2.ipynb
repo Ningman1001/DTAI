{
 "cells": [
  {
   "cell_type": "code",
   "execution_count": 1,
   "metadata": {},
   "outputs": [
    {
     "name": "stdout",
     "output_type": "stream",
     "text": [
      "1+3+5+...+199 = [total]\n"
     ]
    }
   ],
   "source": [
    "total = 0\n",
    "for j in range(100):\n",
    "    total += j\n",
    "    #print(j)\n",
    "print(f'1+3+5+...+199 = [total]')"
   ]
  },
  {
   "cell_type": "code",
   "execution_count": 5,
   "metadata": {},
   "outputs": [
    {
     "name": "stdout",
     "output_type": "stream",
     "text": [
      "1+3+5+...+199 =  [10000]\n"
     ]
    }
   ],
   "source": [
    "total = 0\n",
    "for j in range(1, 200, 2):\n",
    "    total += j\n",
    "    #print(j)\n",
    "print(f'1+3+5+...+199 = ', [total])"
   ]
  },
  {
   "cell_type": "code",
   "execution_count": 3,
   "metadata": {},
   "outputs": [
    {
     "name": "stdout",
     "output_type": "stream",
     "text": [
      "-9+-7+-5+...+-1 =  [-25]\n"
     ]
    }
   ],
   "source": [
    "total = 0\n",
    "for j in range(-9, 0, 2):\n",
    "    total += j\n",
    "    #print(j)\n",
    "print(f'-9+-7+-5+...+-1 = ', [total])"
   ]
  },
  {
   "cell_type": "code",
   "execution_count": 6,
   "metadata": {},
   "outputs": [
    {
     "name": "stdout",
     "output_type": "stream",
     "text": [
      "2 + 3 * 4 - 6 / 2 的結果是 :  11.0\n"
     ]
    }
   ],
   "source": [
    "a = 2 + 3 * 4 - 6 / 2\n",
    "str = \"2 + 3 * 4 - 6 / 2 的結果是 : \"\n",
    "print(str, a)"
   ]
  },
  {
   "cell_type": "code",
   "execution_count": 16,
   "metadata": {},
   "outputs": [
    {
     "name": "stdout",
     "output_type": "stream",
     "text": [
      "圓的面積是：78.50 圓的周長是：31.40\n"
     ]
    }
   ],
   "source": [
    "r = int(input(\"請輸入圓的半徑\"))\n",
    "面積 = round(r**2 * 3.14, 2)\n",
    "周長 = round(2 * r * 3.14, 2)\n",
    "print(f\"圓的面積是：{面積:.2f}\", f\"圓的周長是：{周長:.2f}\")"
   ]
  },
  {
   "cell_type": "code",
   "execution_count": 22,
   "metadata": {},
   "outputs": [
    {
     "name": "stdout",
     "output_type": "stream",
     "text": [
      "2020 是閏年\n"
     ]
    }
   ],
   "source": [
    "year = int(input(\"請輸入年份\"))\n",
    "if (year % 4 == 0 and year % 100 != 0) or (year % 400 == 0):\n",
    "    print(year, \"是閏年\")"
   ]
  },
  {
   "cell_type": "code",
   "execution_count": 23,
   "metadata": {},
   "outputs": [
    {
     "name": "stdout",
     "output_type": "stream",
     "text": [
      "百位數:1\n",
      "十位數:2\n",
      "個位數:3\n"
     ]
    }
   ],
   "source": [
    "num = int(input(\"請輸入一個三位數\"))\n",
    "b = num // 100\n",
    "s = (num % 100) // 10\n",
    "g = num % 10\n",
    "print(f\"百位數:{b}\")\n",
    "print(f\"十位數:{s}\")\n",
    "print(f\"個位數:{g}\")"
   ]
  },
  {
   "cell_type": "code",
   "execution_count": null,
   "metadata": {},
   "outputs": [],
   "source": []
  }
 ],
 "metadata": {
  "kernelspec": {
   "display_name": "Python 3",
   "language": "python",
   "name": "python3"
  },
  "language_info": {
   "codemirror_mode": {
    "name": "ipython",
    "version": 3
   },
   "file_extension": ".py",
   "mimetype": "text/x-python",
   "name": "python",
   "nbconvert_exporter": "python",
   "pygments_lexer": "ipython3",
   "version": "3.12.4"
  }
 },
 "nbformat": 4,
 "nbformat_minor": 2
}
